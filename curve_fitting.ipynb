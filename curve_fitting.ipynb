{
 "cells": [
  {
   "cell_type": "markdown",
   "id": "c01348d8",
   "metadata": {},
   "source": [
    "<p style=\"font-weight:600; font-size:36px\">Curve fitting</p>\n",
    "\n",
    "<p style=\"font-weight:400; font-size:24px\">Jeremy Koch -- 29 Jan 2023</p>\n",
    "\n",
    "This notebook contains code to perform a basic curve fit via ```scipy.optimize```'s ```curve_fit```. Unlike Excel, any function can be fit with this algorithm. (If it comes up later in the semester, I can share code that fits more complicated situations -- ODE coefficients for cases where there is no analytical solution, data that spans orders of magnitude, simultaneous fits, etc.)\n",
    "\n",
    "In the code below: Experimental data is given (from my PhD research), and a model function $$v(x,G,g_c,\\eta_H,f_B)$$ is defined. This function has one independent variable input, $x$, and four (constant) parameters, $G,g_c,\\eta_H,f_B=$```G,gc,nH,fB```.\n",
    "\n",
    "The call to ```curve_fit``` essentially tries to fit the function ```v``` to the experimental data. The call includes an extra and valuable command: ```bounds=(0, np.inf)```. This insists that the algorithm only look for fits with positive values of the parameters. This can be reworked to set unique bounds for each parameter, for example if one of your parameters can take values from $-\\infty$ to $\\infty$ and another must be between 0 and 1.\n",
    "\n",
    "Lastly, the experimental data is plotted alongside the fit curve, and the fit values are printed with a command that rounds them to 3 decimal places. Typically, experimental data is plotted with discrete points and theoretical or fit curves are smooth.\n",
    "\n",
    "https://docs.scipy.org/doc/scipy/reference/generated/scipy.optimize.curve_fit.html"
   ]
  },
  {
   "cell_type": "code",
   "execution_count": 1,
   "id": "e9526da2",
   "metadata": {},
   "outputs": [],
   "source": [
    "import numpy as np\n",
    "from scipy.optimize import curve_fit\n",
    "import matplotlib.pyplot as plt"
   ]
  },
  {
   "cell_type": "code",
   "execution_count": 8,
   "id": "21169b0d",
   "metadata": {},
   "outputs": [
    {
     "name": "stdout",
     "output_type": "stream",
     "text": [
      "fit values: G= 31.387 , gc= 7.46 , nH= 5.149 , fB= 0.01\n"
     ]
    },
    {
     "data": {
      "image/png": "[encoded data removed]",
      "text/plain": [
       "<Figure size 432x288 with 1 Axes>"
      ]
     },
     "metadata": {
      "needs_background": "light"
     },
     "output_type": "display_data"
    }
   ],
   "source": [
    "# experimental data\n",
    "x_exp=np.array([9.99991,6.30959,3.98105,2.51174,1.58487,0.99994,0.63104,0.39806,0.25115,0.15849,\n",
    "              0.09999,0.0631,0.0398,0.02512,0.01585,0.01])\n",
    "y_exp=np.array([300.297,250.444,237.17,229.641,224.519,220.818,218.62,213.132,204.573,172.079,\n",
    "              135.38,99.5142,71.0392,49.0162,35.9663,26.9438])\n",
    "\n",
    "\n",
    "# model equation, with 4 parameters\n",
    "def v(x,G,gc,nH,fB):\n",
    "    return gc*(G+nH*fB)/(x+gc*fB)*x+nH/(x+gc*fB)*x**2\n",
    "\n",
    "fits, _ = curve_fit(v, x_exp, y_exp,bounds=(0, np.inf))\n",
    "# seeks the fit for the four parameters in the model: G,gc,nH,fB\n",
    "# returns an array with the four fit values, and additional output is ignored with _\n",
    "# The last bit about bounds forces each parameter to be positive.\n",
    "# Can replace this with tighter bounds, and can be specific to each parameter if you want.\n",
    "# see scipy documentation if interested\n",
    "\n",
    "\n",
    "x_fit=np.linspace(np.amin(x_exp),np.amax(x_exp)) # creates an array based on the min and max x values of exp data\n",
    "y_fit=v(x_fit,fits[0],fits[1],fits[2],fits[3])   # plugs in x with fit values\n",
    "plt.plot(x_exp,y_exp,'b.')\n",
    "plt.plot(x_fit,y_fit,'r-')\n",
    "plt.plot()\n",
    "\n",
    "print(\"fit values:\",\"G=\",fits[0].round(decimals=3),\", gc=\",fits[1].round(decimals=3),\n",
    "      \", nH=\",fits[2].round(decimals=3),\", fB=\",fits[3].round(decimals=3))"
   ]
  }
 ],
 "metadata": {
  "kernelspec": {
   "display_name": "Python 3 (ipykernel)",
   "language": "python",
   "name": "python3"
  },
  "language_info": {
   "codemirror_mode": {
    "name": "ipython",
    "version": 3
   },
   "file_extension": ".py",
   "mimetype": "text/x-python",
   "name": "python",
   "nbconvert_exporter": "python",
   "pygments_lexer": "ipython3",
   "version": "3.9.12"
  },
  "toc": {
   "base_numbering": 1,
   "nav_menu": {},
   "number_sections": true,
   "sideBar": true,
   "skip_h1_title": false,
   "title_cell": "Table of Contents",
   "title_sidebar": "Contents",
   "toc_cell": false,
   "toc_position": {},
   "toc_section_display": true,
   "toc_window_display": false
  }
 },
 "nbformat": 4,
 "nbformat_minor": 5
}
