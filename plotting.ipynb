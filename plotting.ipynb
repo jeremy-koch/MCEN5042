{
 "cells": [
  {
   "cell_type": "markdown",
   "id": "c6b9be90",
   "metadata": {},
   "source": [
    "<p style=\"font-weight:600; font-size:36px\">Plotting in Python</p>\n",
    "\n",
    "<p style=\"font-weight:400; font-size:24px\">Jeremy Koch -- 29 Jan 2023</p>\n",
    "\n",
    "This notebook contains basic plotting commands, including some options to improve the aesthetics of the plots.\n",
    "\n",
    "In the code below, we make up some eperimental data and define a theoretical curve $f(x)$ that has two parameters $a$ and $b$. We create an array ```x_thy``` that we plug into the function to get some theoretical data ```y_thy=f(x,a,b)```. Then we plot the results, including labels, change the size of the text in the axis labels, insist on the locations of the ticks, set the ticks to point in, and add a legend based on the curve labels we defined. Note that labels can include some light LaTeX formatting, so you can italicize variable names, use greek symbols $\\gamma\\rightarrow$```$\\gamma$```, etc. With additional formatting, these plots could conceivably be made journal-ready.\n",
    "\n",
    "https://matplotlib.org/"
   ]
  },
  {
   "cell_type": "code",
   "execution_count": 24,
   "id": "f07a0963",
   "metadata": {},
   "outputs": [],
   "source": [
    "# import first thing, only need to run once!\n",
    "import numpy as np\n",
    "import matplotlib.pyplot as plt"
   ]
  },
  {
   "cell_type": "code",
   "execution_count": 30,
   "id": "557fb420",
   "metadata": {},
   "outputs": [
    {
     "data": {
      "image/png": "[encoded data removed]",
      "text/plain": [
       "<Figure size 432x288 with 1 Axes>"
      ]
     },
     "metadata": {
      "needs_background": "light"
     },
     "output_type": "display_data"
    }
   ],
   "source": [
    "def f(x,a,b): \n",
    "    # defined with independent variable x and two parameters a & b.\n",
    "    # All of these can be defined later -- python will go back and find\n",
    "    # the definition of this function when you call it.\n",
    "    return a*x**(5/2)+b # for python, the power operator is, weirdly, **\n",
    "\n",
    "\n",
    "# experimental data\n",
    "x_exp=np.array([0,1,2,3,4,5,6,7,8,9,10])\n",
    "y_exp=np.array([42.21,41.40,44.71,43.46,49.82,56.31,61.34,69.20,79.67,91.02,106.68]) \n",
    "\n",
    "# theory plot, based on f(x)\n",
    "a=0.2\n",
    "b=40.2\n",
    "x_thy=np.linspace(0,10,50) # 50 linearly spaced points between 0 and 10\n",
    "y_thy=f(x,a,b)\n",
    "\n",
    "plt.plot(x_exp,y_exp,'b.',label='experiment')\n",
    "plt.plot(x_thy,y_thy,'r-',label='theory')\n",
    "plt.xlabel('position, $x$ [m]', fontsize=14)\n",
    "plt.ylabel('Temperature, $T$ [$^\\circ$C]', fontsize=14)\n",
    "plt.xticks([0,2,4,6,8,10])\n",
    "plt.yticks([40,60,80,100,120])\n",
    "plt.tick_params(axis='both', which='major', direction='in', labelsize=14)\n",
    "plt.legend()\n",
    "plt.show()"
   ]
  }
 ],
 "metadata": {
  "kernelspec": {
   "display_name": "Python 3 (ipykernel)",
   "language": "python",
   "name": "python3"
  },
  "language_info": {
   "codemirror_mode": {
    "name": "ipython",
    "version": 3
   },
   "file_extension": ".py",
   "mimetype": "text/x-python",
   "name": "python",
   "nbconvert_exporter": "python",
   "pygments_lexer": "ipython3",
   "version": "3.9.12"
  },
  "toc": {
   "base_numbering": 1,
   "nav_menu": {},
   "number_sections": true,
   "sideBar": true,
   "skip_h1_title": false,
   "title_cell": "Table of Contents",
   "title_sidebar": "Contents",
   "toc_cell": false,
   "toc_position": {},
   "toc_section_display": true,
   "toc_window_display": false
  }
 },
 "nbformat": 4,
 "nbformat_minor": 5
}
